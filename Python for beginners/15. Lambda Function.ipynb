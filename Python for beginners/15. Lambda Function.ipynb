{
 "cells": [
  {
   "cell_type": "markdown",
   "id": "07a06eb1",
   "metadata": {},
   "source": [
    "# Python Lambda\n",
    "- A lambda function is a small anonymous function.\n",
    "- A lambda function can take any number of arguments, but can only have one expression.\n",
    "- It's not powerful than named function"
   ]
  },
  {
   "cell_type": "markdown",
   "id": "f12388f0",
   "metadata": {},
   "source": [
    "## Syntax\n",
    "lambda arguments : expression"
   ]
  },
  {
   "cell_type": "code",
   "execution_count": 1,
   "id": "14384802",
   "metadata": {},
   "outputs": [
    {
     "name": "stdout",
     "output_type": "stream",
     "text": [
      "25\n"
     ]
    }
   ],
   "source": [
    "# simple function\n",
    "def calculate(a, b):\n",
    "    return a*a + 2*a*b + b*b\n",
    "\n",
    "result = calculate(2, 3)\n",
    "print(result)"
   ]
  },
  {
   "cell_type": "code",
   "execution_count": 6,
   "id": "e1894a99",
   "metadata": {},
   "outputs": [
    {
     "name": "stdout",
     "output_type": "stream",
     "text": [
      "25\n"
     ]
    }
   ],
   "source": [
    "# lambda\n",
    "print((lambda a, b : a*a + 2*a*b + b*b)(2, 3))"
   ]
  },
  {
   "cell_type": "markdown",
   "id": "e9fb5f02",
   "metadata": {},
   "source": [
    "# Assignment"
   ]
  },
  {
   "cell_type": "code",
   "execution_count": null,
   "id": "6f4d09df",
   "metadata": {},
   "outputs": [],
   "source": []
  }
 ],
 "metadata": {
  "kernelspec": {
   "display_name": "Python 3 (ipykernel)",
   "language": "python",
   "name": "python3"
  },
  "language_info": {
   "codemirror_mode": {
    "name": "ipython",
    "version": 3
   },
   "file_extension": ".py",
   "mimetype": "text/x-python",
   "name": "python",
   "nbconvert_exporter": "python",
   "pygments_lexer": "ipython3",
   "version": "3.11.4"
  }
 },
 "nbformat": 4,
 "nbformat_minor": 5
}
