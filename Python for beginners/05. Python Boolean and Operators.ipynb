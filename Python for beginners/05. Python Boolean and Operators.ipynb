{
 "cells": [
  {
   "cell_type": "markdown",
   "id": "edce4fa3",
   "metadata": {},
   "source": [
    "# Python Booleans"
   ]
  },
  {
   "cell_type": "markdown",
   "id": "3d85e97a",
   "metadata": {},
   "source": [
    "In programming you often need to know if an expression is True or False.You can evaluate any expression in Python, and get one of two answers, True or False"
   ]
  },
  {
   "cell_type": "code",
   "execution_count": 1,
   "id": "3ba6cede",
   "metadata": {},
   "outputs": [
    {
     "name": "stdout",
     "output_type": "stream",
     "text": [
      "True\n",
      "False\n",
      "False\n"
     ]
    }
   ],
   "source": [
    "print(10 > 9)\n",
    "print(10 == 9)\n",
    "print(10 < 9)"
   ]
  },
  {
   "cell_type": "code",
   "execution_count": 2,
   "id": "dab7edb5",
   "metadata": {},
   "outputs": [
    {
     "name": "stdout",
     "output_type": "stream",
     "text": [
      "True\n",
      "True\n"
     ]
    }
   ],
   "source": [
    "x = \"Hello\"\n",
    "y = 15\n",
    "\n",
    "print(bool(x))\n",
    "print(bool(y))"
   ]
  },
  {
   "cell_type": "markdown",
   "id": "144c1d02",
   "metadata": {},
   "source": [
    "# Python Operators"
   ]
  },
  {
   "cell_type": "markdown",
   "id": "e2620b8d",
   "metadata": {},
   "source": [
    "Operators are used to perform operations on variables and values.\n",
    "#### Python divides the operators in the following groups:\n",
    "\n",
    "- Arithmetic operators\n",
    "- Assignment operators\n",
    "- Comparison operators\n",
    "- Logical operators\n",
    "- Identity operators\n",
    "- Membership operators\n",
    "- Bitwise operators"
   ]
  },
  {
   "cell_type": "code",
   "execution_count": 3,
   "id": "22feac56",
   "metadata": {},
   "outputs": [
    {
     "data": {
      "text/plain": [
       "'D:\\\\Statistics with Python'"
      ]
     },
     "execution_count": 3,
     "metadata": {},
     "output_type": "execute_result"
    }
   ],
   "source": [
    "pwd"
   ]
  },
  {
   "cell_type": "markdown",
   "id": "aaeb38f6",
   "metadata": {},
   "source": [
    "![title](Pictures/1.png)"
   ]
  },
  {
   "cell_type": "code",
   "execution_count": 4,
   "id": "f84c35ff",
   "metadata": {},
   "outputs": [
    {
     "data": {
      "text/plain": [
       "1"
      ]
     },
     "execution_count": 4,
     "metadata": {},
     "output_type": "execute_result"
    }
   ],
   "source": [
    "5//3"
   ]
  },
  {
   "cell_type": "markdown",
   "id": "07a3a6f7",
   "metadata": {},
   "source": [
    "![title](Pictures/2.png)"
   ]
  },
  {
   "cell_type": "code",
   "execution_count": 5,
   "id": "0cb5a857",
   "metadata": {},
   "outputs": [
    {
     "name": "stdout",
     "output_type": "stream",
     "text": [
      "8\n"
     ]
    }
   ],
   "source": [
    "x = 5\n",
    "x += 3 # x = x = 3\n",
    "print(x)"
   ]
  },
  {
   "cell_type": "markdown",
   "id": "07d8e024",
   "metadata": {},
   "source": [
    "![title](Pictures/3.png)"
   ]
  },
  {
   "cell_type": "code",
   "execution_count": 6,
   "id": "9c391620",
   "metadata": {},
   "outputs": [
    {
     "name": "stdout",
     "output_type": "stream",
     "text": [
      "True\n"
     ]
    }
   ],
   "source": [
    "a = 3\n",
    "print(a == 3)"
   ]
  },
  {
   "cell_type": "markdown",
   "id": "1e304343",
   "metadata": {},
   "source": [
    "![title](Pictures/4.png)"
   ]
  },
  {
   "cell_type": "code",
   "execution_count": 7,
   "id": "832728ac",
   "metadata": {},
   "outputs": [
    {
     "data": {
      "text/plain": [
       "True"
      ]
     },
     "execution_count": 7,
     "metadata": {},
     "output_type": "execute_result"
    }
   ],
   "source": [
    "x = 7\n",
    "x > 5 and  x < 10 "
   ]
  },
  {
   "cell_type": "markdown",
   "id": "b2ce7a28",
   "metadata": {},
   "source": [
    "![title](Pictures/5.png)"
   ]
  }
 ],
 "metadata": {
  "kernelspec": {
   "display_name": "Python 3 (ipykernel)",
   "language": "python",
   "name": "python3"
  },
  "language_info": {
   "codemirror_mode": {
    "name": "ipython",
    "version": 3
   },
   "file_extension": ".py",
   "mimetype": "text/x-python",
   "name": "python",
   "nbconvert_exporter": "python",
   "pygments_lexer": "ipython3",
   "version": "3.11.4"
  }
 },
 "nbformat": 4,
 "nbformat_minor": 5
}
