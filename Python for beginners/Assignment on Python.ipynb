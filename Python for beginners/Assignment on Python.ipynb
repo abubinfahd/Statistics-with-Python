{
 "cells": [
  {
   "cell_type": "markdown",
   "id": "510aca71",
   "metadata": {},
   "source": [
    "### Assignment 1: Conditional Statements (if-else)\n",
    "Problem: Write a program that takes an integer input from the user and prints \"Even\" if the number is even and \"Odd\" if it's odd."
   ]
  },
  {
   "cell_type": "code",
   "execution_count": 1,
   "id": "025f9d8a",
   "metadata": {},
   "outputs": [
    {
     "name": "stdout",
     "output_type": "stream",
     "text": [
      "Enter an integer: 76\n",
      "Even\n"
     ]
    }
   ],
   "source": [
    "number = int(input(\"Enter an integer: \"))\n",
    "if number % 2 == 0:\n",
    "    print(\"Even\")\n",
    "else:\n",
    "    print(\"Odd\")\n"
   ]
  },
  {
   "cell_type": "markdown",
   "id": "84c15d2c",
   "metadata": {},
   "source": [
    "### Assignment 2: While Loop\n",
    "Problem: Write a program that prints the numbers from 1 to 10 using a while loop."
   ]
  },
  {
   "cell_type": "code",
   "execution_count": 2,
   "id": "e2f29e52",
   "metadata": {},
   "outputs": [
    {
     "name": "stdout",
     "output_type": "stream",
     "text": [
      "1\n",
      "2\n",
      "3\n",
      "4\n",
      "5\n",
      "6\n",
      "7\n",
      "8\n",
      "9\n",
      "10\n"
     ]
    }
   ],
   "source": [
    "count = 1\n",
    "while count <= 10:\n",
    "    print(count)\n",
    "    count += 1\n"
   ]
  },
  {
   "cell_type": "markdown",
   "id": "a3332bd2",
   "metadata": {},
   "source": [
    "### Assignment 3: For Loop\n",
    "Problem: Write a program that prints the square of numbers from 1 to 5 using a for loop."
   ]
  },
  {
   "cell_type": "code",
   "execution_count": 3,
   "id": "8d62a0da",
   "metadata": {},
   "outputs": [
    {
     "name": "stdout",
     "output_type": "stream",
     "text": [
      "The square of 1 is 1\n",
      "The square of 2 is 4\n",
      "The square of 3 is 9\n",
      "The square of 4 is 16\n",
      "The square of 5 is 25\n"
     ]
    }
   ],
   "source": [
    "for num in range(1, 6):\n",
    "    square = num ** 2\n",
    "    print(f\"The square of {num} is {square}\")\n"
   ]
  },
  {
   "cell_type": "markdown",
   "id": "5c5e768a",
   "metadata": {},
   "source": [
    "### Assignment 4: Function\n",
    "Problem: Write a function that takes two numbers as parameters and returns their sum."
   ]
  },
  {
   "cell_type": "code",
   "execution_count": 4,
   "id": "83c0f509",
   "metadata": {},
   "outputs": [
    {
     "name": "stdout",
     "output_type": "stream",
     "text": [
      "Sum: 8\n"
     ]
    }
   ],
   "source": [
    "def add_numbers(a, b):\n",
    "    return a + b\n",
    "\n",
    "# Example usage:\n",
    "result = add_numbers(3, 5)\n",
    "print(\"Sum:\", result)\n"
   ]
  },
  {
   "cell_type": "markdown",
   "id": "197789c5",
   "metadata": {},
   "source": [
    "### Assignment 5: Lambda Function\n",
    "Problem: Write a lambda function to find the square of a number."
   ]
  },
  {
   "cell_type": "code",
   "execution_count": 5,
   "id": "3a9f161d",
   "metadata": {},
   "outputs": [
    {
     "name": "stdout",
     "output_type": "stream",
     "text": [
      "The square of 4 is 16\n"
     ]
    }
   ],
   "source": [
    "square = lambda x: x ** 2\n",
    "num = 4\n",
    "print(f\"The square of {num} is {square(num)}\")\n"
   ]
  },
  {
   "cell_type": "markdown",
   "id": "566d01a6",
   "metadata": {},
   "source": [
    "### Assignment 6: Dictionary\n",
    "Problem: Create a dictionary representing a person with keys for \"name\", \"age\", and \"city\". Print each key-value pair."
   ]
  },
  {
   "cell_type": "code",
   "execution_count": 6,
   "id": "8ddc5489",
   "metadata": {},
   "outputs": [
    {
     "name": "stdout",
     "output_type": "stream",
     "text": [
      "name: John\n",
      "age: 25\n",
      "city: New York\n"
     ]
    }
   ],
   "source": [
    "person = {\"name\": \"John\", \"age\": 25, \"city\": \"New York\"}\n",
    "for key, value in person.items():\n",
    "    print(f\"{key}: {value}\")\n"
   ]
  },
  {
   "cell_type": "markdown",
   "id": "36a39b63",
   "metadata": {},
   "source": [
    "### Assignment 7: String Slicing\n",
    "Problem: Given a string \"Python\", print the first three characters."
   ]
  },
  {
   "cell_type": "code",
   "execution_count": 7,
   "id": "050a03a7",
   "metadata": {},
   "outputs": [
    {
     "name": "stdout",
     "output_type": "stream",
     "text": [
      "First three characters: Pyt\n"
     ]
    }
   ],
   "source": [
    "text = \"Python\"\n",
    "print(\"First three characters:\", text[:3])\n"
   ]
  },
  {
   "cell_type": "markdown",
   "id": "bc4e57bf",
   "metadata": {},
   "source": [
    "### Assignment 8: Conditional Loop\n",
    "Problem: Write a program that takes an integer input and prints \"Positive\" if it's positive, \"Negative\" if it's negative, and \"Zero\" if it's zero."
   ]
  },
  {
   "cell_type": "code",
   "execution_count": 8,
   "id": "d02dd07b",
   "metadata": {},
   "outputs": [
    {
     "name": "stdout",
     "output_type": "stream",
     "text": [
      "Enter an integer: 34\n",
      "Positive\n"
     ]
    }
   ],
   "source": [
    "number = int(input(\"Enter an integer: \"))\n",
    "if number > 0:\n",
    "    print(\"Positive\")\n",
    "elif number < 0:\n",
    "    print(\"Negative\")\n",
    "else:\n",
    "    print(\"Zero\")\n"
   ]
  },
  {
   "cell_type": "markdown",
   "id": "8dc5c38d",
   "metadata": {},
   "source": [
    "### Assignment 9: Count Characters\n",
    "Write a program that takes a string input and counts the occurrences of each character. Store the results in a dictionary."
   ]
  },
  {
   "cell_type": "code",
   "execution_count": 9,
   "id": "2b679317",
   "metadata": {},
   "outputs": [
    {
     "name": "stdout",
     "output_type": "stream",
     "text": [
      "Enter a string: Hopr\n",
      "Character occurrences:\n",
      "H: 1\n",
      "o: 1\n",
      "p: 1\n",
      "r: 1\n"
     ]
    }
   ],
   "source": [
    "# Get a string input from the user\n",
    "user_input = input(\"Enter a string: \")\n",
    "\n",
    "# Initialize an empty dictionary to store character occurrences\n",
    "char_count = {}\n",
    "\n",
    "# Count occurrences of each character in the string\n",
    "for char in user_input:\n",
    "    # Check if the character is already in the dictionary\n",
    "    if char in char_count:\n",
    "        char_count[char] += 1\n",
    "    else:\n",
    "        char_count[char] = 1\n",
    "\n",
    "# Print the results\n",
    "print(\"Character occurrences:\")\n",
    "for char, count in char_count.items():\n",
    "    print(f\"{char}: {count}\")\n"
   ]
  },
  {
   "cell_type": "markdown",
   "id": "52726c12",
   "metadata": {},
   "source": [
    "### Assignment 10:Mini Project\n",
    "A basic calculator. This project will allow the user to perform basic arithmetic operations (addition, subtraction, multiplication, and division) on two numbers."
   ]
  },
  {
   "cell_type": "code",
   "execution_count": 10,
   "id": "9f5685b1",
   "metadata": {},
   "outputs": [
    {
     "name": "stdout",
     "output_type": "stream",
     "text": [
      "Simple Calculator\n",
      "1. Add\n",
      "2. Subtract\n",
      "3. Multiply\n",
      "4. Divide\n",
      "5. Exit\n",
      "Enter choice (1-5): 3\n",
      "Enter first number: 5\n",
      "Enter second number: 7\n",
      "Result: 5.0 * 7.0 = 35.0\n",
      "Simple Calculator\n",
      "1. Add\n",
      "2. Subtract\n",
      "3. Multiply\n",
      "4. Divide\n",
      "5. Exit\n",
      "Enter choice (1-5): 5\n",
      "Exiting the calculator. Goodbye!\n"
     ]
    }
   ],
   "source": [
    "def add(x, y):\n",
    "    return x + y\n",
    "\n",
    "def subtract(x, y):\n",
    "    return x - y\n",
    "\n",
    "def multiply(x, y):\n",
    "    return x * y\n",
    "\n",
    "def divide(x, y):\n",
    "    if y != 0:\n",
    "        return x / y\n",
    "    else:\n",
    "        return \"Cannot divide by zero.\"\n",
    "\n",
    "# Main program\n",
    "while True:\n",
    "    print(\"Simple Calculator\")\n",
    "    print(\"1. Add\")\n",
    "    print(\"2. Subtract\")\n",
    "    print(\"3. Multiply\")\n",
    "    print(\"4. Divide\")\n",
    "    print(\"5. Exit\")\n",
    "\n",
    "    choice = input(\"Enter choice (1-5): \")\n",
    "\n",
    "    if choice == '5':\n",
    "        print(\"Exiting the calculator. Goodbye!\")\n",
    "        break\n",
    "\n",
    "    if choice in ('1', '2', '3', '4'):\n",
    "        num1 = float(input(\"Enter first number: \"))\n",
    "        num2 = float(input(\"Enter second number: \"))\n",
    "\n",
    "        if choice == '1':\n",
    "            result = add(num1, num2)\n",
    "            print(f\"Result: {num1} + {num2} = {result}\")\n",
    "        elif choice == '2':\n",
    "            result = subtract(num1, num2)\n",
    "            print(f\"Result: {num1} - {num2} = {result}\")\n",
    "        elif choice == '3':\n",
    "            result = multiply(num1, num2)\n",
    "            print(f\"Result: {num1} * {num2} = {result}\")\n",
    "        elif choice == '4':\n",
    "            result = divide(num1, num2)\n",
    "            print(f\"Result: {num1} / {num2} = {result}\")\n",
    "    else:\n",
    "        print(\"Invalid input. Please enter a valid choice.\")\n"
   ]
  },
  {
   "cell_type": "code",
   "execution_count": null,
   "id": "95c56ca7",
   "metadata": {},
   "outputs": [],
   "source": []
  }
 ],
 "metadata": {
  "kernelspec": {
   "display_name": "Python 3 (ipykernel)",
   "language": "python",
   "name": "python3"
  },
  "language_info": {
   "codemirror_mode": {
    "name": "ipython",
    "version": 3
   },
   "file_extension": ".py",
   "mimetype": "text/x-python",
   "name": "python",
   "nbconvert_exporter": "python",
   "pygments_lexer": "ipython3",
   "version": "3.11.4"
  }
 },
 "nbformat": 4,
 "nbformat_minor": 5
}
