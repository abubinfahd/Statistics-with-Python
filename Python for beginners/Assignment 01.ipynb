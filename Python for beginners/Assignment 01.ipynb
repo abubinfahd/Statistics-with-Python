{
 "cells": [
  {
   "cell_type": "markdown",
   "id": "f6395a18",
   "metadata": {},
   "source": [
    "01. Write a Python program that takes an integer input from the user and checks if it is even or odd. If it's even, print \"The number is even.\" If it's odd, print \"The number is odd.\"\n"
   ]
  },
  {
   "cell_type": "code",
   "execution_count": 2,
   "id": "c94b9fd6",
   "metadata": {},
   "outputs": [
    {
     "name": "stdout",
     "output_type": "stream",
     "text": [
      "Enter an integer: 100\n",
      "The number is even.\n"
     ]
    }
   ],
   "source": [
    "# Get an integer input from the user\n",
    "user_input = int(input(\"Enter an integer: \"))\n",
    "\n",
    "# Check if the number is even or odd\n",
    "if user_input % 2 == 0:\n",
    "    print(\"The number is even.\")\n",
    "else:\n",
    "    print(\"The number is odd.\")\n"
   ]
  },
  {
   "cell_type": "markdown",
   "id": "23cf7311",
   "metadata": {},
   "source": [
    "02. Write a Python program that takes a positive integer as input from the user and then counts down from that number to 1. Print each number in the countdown."
   ]
  },
  {
   "cell_type": "code",
   "execution_count": 3,
   "id": "1baad065",
   "metadata": {},
   "outputs": [
    {
     "name": "stdout",
     "output_type": "stream",
     "text": [
      "Enter a positive integer: 10\n",
      "10\n",
      "9\n",
      "8\n",
      "7\n",
      "6\n",
      "5\n",
      "4\n",
      "3\n",
      "2\n",
      "1\n"
     ]
    }
   ],
   "source": [
    "# Get a positive integer input from the user\n",
    "user_input = int(input(\"Enter a positive integer: \"))\n",
    "\n",
    "# Countdown from the input to 1\n",
    "for i in range(user_input, 0, -1):\n",
    "    print(i)\n"
   ]
  },
  {
   "cell_type": "code",
   "execution_count": null,
   "id": "e6cea877",
   "metadata": {},
   "outputs": [],
   "source": []
  }
 ],
 "metadata": {
  "kernelspec": {
   "display_name": "Python 3 (ipykernel)",
   "language": "python",
   "name": "python3"
  },
  "language_info": {
   "codemirror_mode": {
    "name": "ipython",
    "version": 3
   },
   "file_extension": ".py",
   "mimetype": "text/x-python",
   "name": "python",
   "nbconvert_exporter": "python",
   "pygments_lexer": "ipython3",
   "version": "3.11.4"
  }
 },
 "nbformat": 4,
 "nbformat_minor": 5
}
